{
  "nbformat": 4,
  "nbformat_minor": 0,
  "metadata": {
    "colab": {
      "provenance": [],
      "authorship_tag": "ABX9TyN4aWvSQ8699LeCikIEDo2v",
      "include_colab_link": true
    },
    "kernelspec": {
      "name": "python3",
      "display_name": "Python 3"
    },
    "language_info": {
      "name": "python"
    }
  },
  "cells": [
    {
      "cell_type": "markdown",
      "metadata": {
        "id": "view-in-github",
        "colab_type": "text"
      },
      "source": [
        "<a href=\"https://colab.research.google.com/github/omaralsabbah/Python-/blob/main/linear_regression_manual.ipynb\" target=\"_parent\"><img src=\"https://colab.research.google.com/assets/colab-badge.svg\" alt=\"Open In Colab\"/></a>"
      ]
    },
    {
      "cell_type": "code",
      "execution_count": null,
      "metadata": {
        "id": "anloRFB_iGJ8"
      },
      "outputs": [],
      "source": [
        "import numpy as np\n",
        "import matplotlib.pyplot as plt"
      ]
    },
    {
      "cell_type": "code",
      "source": [
        "data = np.loadtxt(\"/content/data.txt\", delimiter = \",\")\n",
        "data"
      ],
      "metadata": {
        "colab": {
          "base_uri": "https://localhost:8080/"
        },
        "id": "xmCIAFFUi6hr",
        "outputId": "f35d50ce-559a-4e81-fa0b-a4e3627cc1c9"
      },
      "execution_count": null,
      "outputs": [
        {
          "output_type": "execute_result",
          "data": {
            "text/plain": [
              "array([[  1500., 158900.],\n",
              "       [  1700., 169850.],\n",
              "       [  1750., 178950.],\n",
              "       [  1800., 178650.],\n",
              "       [  1820., 180000.],\n",
              "       [  1920., 186850.],\n",
              "       [  1450., 150000.],\n",
              "       [  1590., 149870.],\n",
              "       [  1596., 158620.],\n",
              "       [  1623., 159990.],\n",
              "       [  1878., 189680.],\n",
              "       [  1658., 168980.],\n",
              "       [  1720., 170000.],\n",
              "       [  1985., 190000.],\n",
              "       [  2000., 198510.],\n",
              "       [  2100., 200000.],\n",
              "       [  2050., 193580.],\n",
              "       [  1990., 200000.],\n",
              "       [  1965., 195180.],\n",
              "       [  1970., 198680.],\n",
              "       [  2120., 201650.],\n",
              "       [  2200., 220000.],\n",
              "       [  2156., 216510.],\n",
              "       [  1269., 138550.],\n",
              "       [  1489., 149850.],\n",
              "       [  1785., 179850.],\n",
              "       [  1965., 196280.],\n",
              "       [  1948., 195680.],\n",
              "       [  2008., 200000.],\n",
              "       [  2079., 205880.],\n",
              "       [  2116., 210000.],\n",
              "       [  2230., 220000.],\n",
              "       [  2200., 219850.],\n",
              "       [  2220., 222000.],\n",
              "       [  2365., 235680.],\n",
              "       [  2325., 239580.],\n",
              "       [  2396., 240000.],\n",
              "       [  2489., 248850.],\n",
              "       [  2420., 245590.],\n",
              "       [  2398., 240000.],\n",
              "       [  2350., 236840.],\n",
              "       [  2375., 230000.],\n",
              "       [  2236., 226260.],\n",
              "       [  2347., 220590.],\n",
              "       [  2459., 239840.]])"
            ]
          },
          "metadata": {},
          "execution_count": 4
        }
      ]
    },
    {
      "cell_type": "code",
      "source": [
        "X=data[:,0]\n",
        "y=data[:,1].reshape(X.size,1)\n",
        "X= np.vstack((np.ones((X.size, )), X)).T\n",
        "print(X.shape, y.shape)"
      ],
      "metadata": {
        "colab": {
          "base_uri": "https://localhost:8080/"
        },
        "id": "FsVQ5QkgjIUc",
        "outputId": "5a87d68f-ea4e-461d-f036-80caf1bfd4ac"
      },
      "execution_count": null,
      "outputs": [
        {
          "output_type": "stream",
          "name": "stdout",
          "text": [
            "(45, 2) (45, 1)\n"
          ]
        }
      ]
    },
    {
      "cell_type": "code",
      "source": [
        "plt.scatter(X[:,1],y)\n",
        "plt.show()"
      ],
      "metadata": {
        "colab": {
          "base_uri": "https://localhost:8080/",
          "height": 265
        },
        "id": "9kIpiX9LlpXG",
        "outputId": "ed6a3f76-be21-4f49-c4ab-077a9d5a898d"
      },
      "execution_count": null,
      "outputs": [
        {
          "output_type": "display_data",
          "data": {
            "text/plain": [
              "<Figure size 432x288 with 1 Axes>"
            ],
            "image/png": "[encoded data removed]"
          },
          "metadata": {
            "needs_background": "light"
          }
        }
      ]
    },
    {
      "cell_type": "code",
      "source": [
        "#defining model \n",
        "def model(X,y,alpha,iteration):\n",
        "  theta = np.zeros((2, 1))\n",
        "  m=y.size\n",
        "  cost_list=[]\n",
        "  theta_list=[]\n",
        "  for i in range(iteration):\n",
        "    y_pred = np.dot(X, theta)\n",
        "    cost = (1/(2*m))*np.sum(np.square(y_pred - y))\n",
        "    d_theta = (1/m)*np.dot(X.T,y_pred - y)\n",
        "    theta = theta - alpha*d_theta\n",
        "    cost_list.append(cost)\n",
        "    theta_list.append(theta[1])\n",
        "  return theta, cost_list, theta_list    \n"
      ],
      "metadata": {
        "id": "RygBY1lTl2vy"
      },
      "execution_count": null,
      "outputs": []
    },
    {
      "cell_type": "code",
      "source": [
        "#training the model \n",
        "iteration = 100\n",
        "alpha = 0.00000005\n",
        "theta, cost, theta_list = model(X,y, alpha,iteration)\n",
        "theta_list\n"
      ],
      "metadata": {
        "colab": {
          "base_uri": "https://localhost:8080/"
        },
        "id": "PUu7ypBx7cwN",
        "outputId": "91cdfe7d-b5a7-4d19-8866-c64cbd3f870b"
      },
      "execution_count": null,
      "outputs": [
        {
          "output_type": "execute_result",
          "data": {
            "text/plain": [
              "[array([20.34519538]),\n",
              " array([36.52578754]),\n",
              " array([49.39425883]),\n",
              " array([59.62859091]),\n",
              " array([67.76798453]),\n",
              " array([74.24126759]),\n",
              " array([79.38948815]),\n",
              " array([83.4838827]),\n",
              " array([86.74016642]),\n",
              " array([89.32989819]),\n",
              " array([91.38951928]),\n",
              " array([93.02754183]),\n",
              " array([94.33026586]),\n",
              " array([95.36632601]),\n",
              " array([96.19030761]),\n",
              " array([96.84562254]),\n",
              " array([97.36679638]),\n",
              " array([97.78128742]),\n",
              " array([98.11093334]),\n",
              " array([98.37310168]),\n",
              " array([98.58160491]),\n",
              " array([98.74742812]),\n",
              " array([98.8793078]),\n",
              " array([98.98419208]),\n",
              " array([99.06760685]),\n",
              " array([99.13394686]),\n",
              " array([99.18670725]),\n",
              " array([99.22866775]),\n",
              " array([99.26203904]),\n",
              " array([99.28857933]),\n",
              " array([99.3096869]),\n",
              " array([99.32647381]),\n",
              " array([99.33982448]),\n",
              " array([99.35044231]),\n",
              " array([99.3588867]),\n",
              " array([99.36560254]),\n",
              " array([99.37094367]),\n",
              " array([99.37519149]),\n",
              " array([99.37856978]),\n",
              " array([99.38125655]),\n",
              " array([99.38339335]),\n",
              " array([99.38509275]),\n",
              " array([99.38644428]),\n",
              " array([99.38751916]),\n",
              " array([99.38837401]),\n",
              " array([99.38905388]),\n",
              " array([99.38959458]),\n",
              " array([99.39002459]),\n",
              " array([99.39036659]),\n",
              " array([99.39063857]),\n",
              " array([99.39085488]),\n",
              " array([99.39102692]),\n",
              " array([99.39116373]),\n",
              " array([99.39127254]),\n",
              " array([99.39135908]),\n",
              " array([99.3914279]),\n",
              " array([99.39148263]),\n",
              " array([99.39152616]),\n",
              " array([99.39156078]),\n",
              " array([99.39158831]),\n",
              " array([99.3916102]),\n",
              " array([99.39162761]),\n",
              " array([99.39164146]),\n",
              " array([99.39165247]),\n",
              " array([99.39166122]),\n",
              " array([99.39166818]),\n",
              " array([99.39167372]),\n",
              " array([99.39167812]),\n",
              " array([99.39168162]),\n",
              " array([99.3916844]),\n",
              " array([99.39168662]),\n",
              " array([99.39168837]),\n",
              " array([99.39168977]),\n",
              " array([99.39169088]),\n",
              " array([99.39169176]),\n",
              " array([99.39169246]),\n",
              " array([99.39169302]),\n",
              " array([99.39169346]),\n",
              " array([99.39169381]),\n",
              " array([99.39169409]),\n",
              " array([99.39169431]),\n",
              " array([99.39169448]),\n",
              " array([99.39169462]),\n",
              " array([99.39169472]),\n",
              " array([99.39169481]),\n",
              " array([99.39169488]),\n",
              " array([99.39169493]),\n",
              " array([99.39169497]),\n",
              " array([99.391695]),\n",
              " array([99.39169502]),\n",
              " array([99.39169504]),\n",
              " array([99.39169505]),\n",
              " array([99.39169506]),\n",
              " array([99.39169507]),\n",
              " array([99.39169507]),\n",
              " array([99.39169507]),\n",
              " array([99.39169507]),\n",
              " array([99.39169507]),\n",
              " array([99.39169507]),\n",
              " array([99.39169507])]"
            ]
          },
          "metadata": {},
          "execution_count": 66
        }
      ]
    },
    {
      "cell_type": "code",
      "source": [
        "new_houses = np.array([[1, 1547], [1, 1896], [1, 1934], [1,\n",
        "2800], [1, 3400], [1, 5000]])\n",
        "for house in new_houses :\n",
        "  print(\"Our model predicts the price of house with\",\n",
        "  house[1], \"sq. ft. area as : $\", round(np.dot(house, theta)[0],2))\n"
      ],
      "metadata": {
        "colab": {
          "base_uri": "https://localhost:8080/"
        },
        "id": "tFFd26IT9e8t",
        "outputId": "957205ef-3d07-49bd-d4ce-d7ed7c9953ac"
      },
      "execution_count": null,
      "outputs": [
        {
          "output_type": "stream",
          "name": "stdout",
          "text": [
            "Our model predicts the price of house with 1547 sq. ft. area as : $ 153759.0\n",
            "Our model predicts the price of house with 1896 sq. ft. area as : $ 188446.7\n",
            "Our model predicts the price of house with 1934 sq. ft. area as : $ 192223.59\n",
            "Our model predicts the price of house with 2800 sq. ft. area as : $ 278296.8\n",
            "Our model predicts the price of house with 3400 sq. ft. area as : $ 337931.81\n",
            "Our model predicts the price of house with 5000 sq. ft. area as : $ 496958.52\n"
          ]
        }
      ]
    },
    {
      "cell_type": "code",
      "source": [
        "#plotting cost function\n",
        "rng = range(iteration)\n",
        "plt.plot(rng,cost)\n",
        "plt.show()\n",
        "\n",
        "\n",
        "plt.plot(theta_list,cost)\n",
        "plt.show()\n"
      ],
      "metadata": {
        "colab": {
          "base_uri": "https://localhost:8080/",
          "height": 535
        },
        "id": "8R3uDAXO_LXN",
        "outputId": "27fcaa77-780c-46a8-ad38-525a9f9e87e4"
      },
      "execution_count": null,
      "outputs": [
        {
          "output_type": "display_data",
          "data": {
            "text/plain": [
              "<Figure size 432x288 with 1 Axes>"
            ],
            "image/png": "[encoded data removed]"
          },
          "metadata": {
            "needs_background": "light"
          }
        },
        {
          "output_type": "display_data",
          "data": {
            "text/plain": [
              "<Figure size 432x288 with 1 Axes>"
            ],
            "image/png": "[encoded data removed]"
          },
          "metadata": {
            "needs_background": "light"
          }
        }
      ]
    }
  ]
}