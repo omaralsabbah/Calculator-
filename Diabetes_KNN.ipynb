{
  "nbformat": 4,
  "nbformat_minor": 0,
  "metadata": {
    "colab": {
      "provenance": [],
      "authorship_tag": "ABX9TyNe5P5nW0EZVy27EmsbHzI2",
      "include_colab_link": true
    },
    "kernelspec": {
      "name": "python3",
      "display_name": "Python 3"
    },
    "language_info": {
      "name": "python"
    }
  },
  "cells": [
    {
      "cell_type": "markdown",
      "metadata": {
        "id": "view-in-github",
        "colab_type": "text"
      },
      "source": [
        "<a href=\"https://colab.research.google.com/github/omaralsabbah/Python-/blob/main/Diabetes_KNN.ipynb\" target=\"_parent\"><img src=\"https://colab.research.google.com/assets/colab-badge.svg\" alt=\"Open In Colab\"/></a>"
      ]
    },
    {
      "cell_type": "markdown",
      "source": [
        "Predicting wether a person has diabetes or not with KNN algorithm "
      ],
      "metadata": {
        "id": "KmSz_3FsXadK"
      }
    },
    {
      "cell_type": "code",
      "execution_count": 2,
      "metadata": {
        "id": "uIs2zDLqVI1g"
      },
      "outputs": [],
      "source": [
        "#importing libraries\n",
        "import pandas as pd\n",
        "import numpy as np\n",
        "import matplotlib.pyplot as plt\n",
        "from sklearn.preprocessing import StandardScaler\n",
        "from sklearn.model_selection import train_test_split\n",
        "from sklearn.neighbors import KNeighborsClassifier\n",
        "from sklearn.metrics import accuracy_score, f1_score, confusion_matrix"
      ]
    },
    {
      "cell_type": "code",
      "source": [
        "df=pd.read_excel(\"/content/diabetes.xlsx\")\n",
        "print(df.head())\n",
        "print(df.shape)\n"
      ],
      "metadata": {
        "colab": {
          "base_uri": "https://localhost:8080/"
        },
        "id": "hbv710PpXWwj",
        "outputId": "58708ba8-f71e-4598-c1b5-452786973976"
      },
      "execution_count": 7,
      "outputs": [
        {
          "output_type": "stream",
          "name": "stdout",
          "text": [
            "   UserID  Glucose  BloodPressure  SkinThickness  Insulin   BMI  \\\n",
            "0     6.0    148.0           72.0           35.0      0.0  33.6   \n",
            "1     1.0     85.0           66.0           29.0      0.0  26.6   \n",
            "2     8.0    183.0           64.0            0.0      0.0  23.3   \n",
            "3     1.0     89.0           66.0           23.0     94.0  28.1   \n",
            "4     0.0    137.0           40.0           35.0    168.0  43.1   \n",
            "\n",
            "   DiabetesPedigreeFunction   Age  Outcome  \n",
            "0                     0.627  50.0      1.0  \n",
            "1                     0.351  31.0      0.0  \n",
            "2                     0.672  32.0      1.0  \n",
            "3                     0.167  21.0      0.0  \n",
            "4                     2.288  33.0      1.0  \n",
            "(768, 9)\n"
          ]
        }
      ]
    },
    {
      "cell_type": "code",
      "source": [
        "#Data preprocessing\n",
        "#dealing with the unjustified zeros\n",
        "columns_with_zeros=['Glucose','BloodPressure','SkinThickness','Insulin','BMI']\n",
        "\n",
        "for column in columns_with_zeros:\n",
        "  df[column]=df[column].replace(0,np.NaN)\n",
        "  mean=int(df[column].mean())\n",
        "  df[column]=df[column].replace(np.NaN,mean)\n",
        "\n",
        "\n",
        "print(df.info())"
      ],
      "metadata": {
        "colab": {
          "base_uri": "https://localhost:8080/"
        },
        "id": "NTgz9NBeYJOG",
        "outputId": "b3af44e0-2d5e-49d4-ce07-2c2fd3a15cb9"
      },
      "execution_count": 34,
      "outputs": [
        {
          "output_type": "stream",
          "name": "stdout",
          "text": [
            "<class 'pandas.core.frame.DataFrame'>\n",
            "RangeIndex: 768 entries, 0 to 767\n",
            "Data columns (total 9 columns):\n",
            " #   Column                    Non-Null Count  Dtype  \n",
            "---  ------                    --------------  -----  \n",
            " 0   UserID                    768 non-null    float64\n",
            " 1   Glucose                   768 non-null    float64\n",
            " 2   BloodPressure             768 non-null    float64\n",
            " 3   SkinThickness             768 non-null    float64\n",
            " 4   Insulin                   768 non-null    float64\n",
            " 5   BMI                       768 non-null    float64\n",
            " 6   DiabetesPedigreeFunction  768 non-null    float64\n",
            " 7   Age                       768 non-null    float64\n",
            " 8   Outcome                   768 non-null    float64\n",
            "dtypes: float64(9)\n",
            "memory usage: 54.1 KB\n",
            "None\n"
          ]
        }
      ]
    },
    {
      "cell_type": "code",
      "source": [
        "#splitting dataset into test and train \n",
        "X=df.drop(columns=['Outcome'],axis=1)\n",
        "y=df['Outcome']\n",
        "\n",
        "X_train, X_test, y_train, y_test=train_test_split(X,y,random_state=0,test_size=0.2)\n",
        "X_train.shape, X_test.shape"
      ],
      "metadata": {
        "colab": {
          "base_uri": "https://localhost:8080/"
        },
        "id": "YlFpMr6Pa2hJ",
        "outputId": "82c31bf1-4eb1-4aa2-b36e-559e28d1b21c"
      },
      "execution_count": 35,
      "outputs": [
        {
          "output_type": "execute_result",
          "data": {
            "text/plain": [
              "((614, 8), (154, 8))"
            ]
          },
          "metadata": {},
          "execution_count": 35
        }
      ]
    },
    {
      "cell_type": "code",
      "source": [
        "#scaling the features\n",
        "sc=StandardScaler()\n",
        "X_train=sc.fit_transform(X_train)\n",
        "X_test=sc.transform(X_test)"
      ],
      "metadata": {
        "id": "52hofJ-RdQ54"
      },
      "execution_count": 36,
      "outputs": []
    },
    {
      "cell_type": "code",
      "source": [
        "# defining the model -KNN\n",
        "model=KNeighborsClassifier(n_neighbors=11, p=2, metric=\"minkowski\")\n",
        "model.fit(X_train,y_train)"
      ],
      "metadata": {
        "colab": {
          "base_uri": "https://localhost:8080/"
        },
        "id": "K1l3EXoFd8rU",
        "outputId": "d947b9a8-a2a5-4801-dadd-a4cdb8c9c201"
      },
      "execution_count": 55,
      "outputs": [
        {
          "output_type": "execute_result",
          "data": {
            "text/plain": [
              "KNeighborsClassifier(n_neighbors=11)"
            ]
          },
          "metadata": {},
          "execution_count": 55
        }
      ]
    },
    {
      "cell_type": "code",
      "source": [
        "#Evaluating the model \n",
        "y_pred=model.predict(X_test)\n",
        "y_pred\n",
        "\n",
        "cm=confusion_matrix(y_test, y_pred)\n",
        "print(\"Confision matrix:\\n\",cm)\n",
        "print(\"f1_score=\",f1_score(y_test,y_pred))\n",
        "print(\"Accuracy score=\",accuracy_score(y_test,y_pred))"
      ],
      "metadata": {
        "colab": {
          "base_uri": "https://localhost:8080/"
        },
        "id": "GPQaTWJzd85a",
        "outputId": "bd254ced-2d6b-4e9d-8e91-1084453fc64b"
      },
      "execution_count": 63,
      "outputs": [
        {
          "output_type": "stream",
          "name": "stdout",
          "text": [
            "Confision matrix:\n",
            " [[94 13]\n",
            " [16 31]]\n",
            "f1_score= 0.6813186813186813\n",
            "Accuracy score= 0.8116883116883117\n"
          ]
        }
      ]
    }
  ]
}